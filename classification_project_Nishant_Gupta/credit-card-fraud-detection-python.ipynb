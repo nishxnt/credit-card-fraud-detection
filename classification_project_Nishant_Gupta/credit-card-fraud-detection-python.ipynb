{
 "cells": [
  {
   "cell_type": "markdown",
   "id": "8953f7f5",
   "metadata": {
    "papermill": {
     "duration": 0.013502,
     "end_time": "2022-09-01T20:12:13.840318",
     "exception": false,
     "start_time": "2022-09-01T20:12:13.826816",
     "status": "completed"
    },
    "tags": []
   },
   "source": [
    "# Project: Credit Card Fraud Detection"
   ]
  },
  {
   "cell_type": "markdown",
   "id": "88baf7fc",
   "metadata": {
    "papermill": {
     "duration": 0.010709,
     "end_time": "2022-09-01T20:12:13.861175",
     "exception": false,
     "start_time": "2022-09-01T20:12:13.850466",
     "status": "completed"
    },
    "tags": []
   },
   "source": [
    "## Table of Contents\n",
    "\n",
    "1. [Importing Libraries](#section-one)\n",
    "2. [Loading the raw data](#section-two)\n",
    "3. [Data Pre-Processing](#section-three)\n",
    "4. [Model Training](#section-four)\n",
    "5. [Model Evaluation](#section-five)"
   ]
  },
  {
   "cell_type": "markdown",
   "id": "28a789a5",
   "metadata": {
    "papermill": {
     "duration": 0.010336,
     "end_time": "2022-09-01T20:12:13.881510",
     "exception": false,
     "start_time": "2022-09-01T20:12:13.871174",
     "status": "completed"
    },
    "tags": []
   },
   "source": [
    "<a id=\"section-one\"></a>\n",
    "## 1. Importing Libraries "
   ]
  },
  {
   "cell_type": "code",
   "execution_count": 1,
   "id": "a2b9c09e",
   "metadata": {
    "execution": {
     "iopub.execute_input": "2022-09-01T20:12:13.903868Z",
     "iopub.status.busy": "2022-09-01T20:12:13.903005Z",
     "iopub.status.idle": "2022-09-01T20:12:15.227636Z",
     "shell.execute_reply": "2022-09-01T20:12:15.226114Z"
    },
    "papermill": {
     "duration": 1.339252,
     "end_time": "2022-09-01T20:12:15.230904",
     "exception": false,
     "start_time": "2022-09-01T20:12:13.891652",
     "status": "completed"
    },
    "tags": []
   },
   "outputs": [],
   "source": [
    "import numpy as np\n",
    "import pandas as pd\n",
    "from sklearn.linear_model import LogisticRegression"
   ]
  },
  {
   "cell_type": "markdown",
   "id": "fa4d1562",
   "metadata": {
    "papermill": {
     "duration": 0.009736,
     "end_time": "2022-09-01T20:12:15.251875",
     "exception": false,
     "start_time": "2022-09-01T20:12:15.242139",
     "status": "completed"
    },
    "tags": []
   },
   "source": [
    "<a id=\"section-two\"></a>\n",
    "## 2. Loading the raw data "
   ]
  },
  {
   "cell_type": "code",
   "execution_count": 2,
   "id": "8ba7478a",
   "metadata": {
    "execution": {
     "iopub.execute_input": "2022-09-01T20:12:15.279802Z",
     "iopub.status.busy": "2022-09-01T20:12:15.279267Z",
     "iopub.status.idle": "2022-09-01T20:12:19.889629Z",
     "shell.execute_reply": "2022-09-01T20:12:19.888137Z"
    },
    "papermill": {
     "duration": 4.627369,
     "end_time": "2022-09-01T20:12:19.892429",
     "exception": false,
     "start_time": "2022-09-01T20:12:15.265060",
     "status": "completed"
    },
    "tags": []
   },
   "outputs": [
    {
     "data": {
      "text/html": [
       "<div>\n",
       "<style scoped>\n",
       "    .dataframe tbody tr th:only-of-type {\n",
       "        vertical-align: middle;\n",
       "    }\n",
       "\n",
       "    .dataframe tbody tr th {\n",
       "        vertical-align: top;\n",
       "    }\n",
       "\n",
       "    .dataframe thead th {\n",
       "        text-align: right;\n",
       "    }\n",
       "</style>\n",
       "<table border=\"1\" class=\"dataframe\">\n",
       "  <thead>\n",
       "    <tr style=\"text-align: right;\">\n",
       "      <th></th>\n",
       "      <th>Time</th>\n",
       "      <th>V1</th>\n",
       "      <th>V2</th>\n",
       "      <th>V3</th>\n",
       "      <th>V4</th>\n",
       "      <th>V5</th>\n",
       "      <th>V6</th>\n",
       "      <th>V7</th>\n",
       "      <th>V8</th>\n",
       "      <th>V9</th>\n",
       "      <th>...</th>\n",
       "      <th>V21</th>\n",
       "      <th>V22</th>\n",
       "      <th>V23</th>\n",
       "      <th>V24</th>\n",
       "      <th>V25</th>\n",
       "      <th>V26</th>\n",
       "      <th>V27</th>\n",
       "      <th>V28</th>\n",
       "      <th>Amount</th>\n",
       "      <th>Class</th>\n",
       "    </tr>\n",
       "  </thead>\n",
       "  <tbody>\n",
       "    <tr>\n",
       "      <th>0</th>\n",
       "      <td>0.0</td>\n",
       "      <td>-1.359807</td>\n",
       "      <td>-0.072781</td>\n",
       "      <td>2.536347</td>\n",
       "      <td>1.378155</td>\n",
       "      <td>-0.338321</td>\n",
       "      <td>0.462388</td>\n",
       "      <td>0.239599</td>\n",
       "      <td>0.098698</td>\n",
       "      <td>0.363787</td>\n",
       "      <td>...</td>\n",
       "      <td>-0.018307</td>\n",
       "      <td>0.277838</td>\n",
       "      <td>-0.110474</td>\n",
       "      <td>0.066928</td>\n",
       "      <td>0.128539</td>\n",
       "      <td>-0.189115</td>\n",
       "      <td>0.133558</td>\n",
       "      <td>-0.021053</td>\n",
       "      <td>149.62</td>\n",
       "      <td>0</td>\n",
       "    </tr>\n",
       "    <tr>\n",
       "      <th>1</th>\n",
       "      <td>0.0</td>\n",
       "      <td>1.191857</td>\n",
       "      <td>0.266151</td>\n",
       "      <td>0.166480</td>\n",
       "      <td>0.448154</td>\n",
       "      <td>0.060018</td>\n",
       "      <td>-0.082361</td>\n",
       "      <td>-0.078803</td>\n",
       "      <td>0.085102</td>\n",
       "      <td>-0.255425</td>\n",
       "      <td>...</td>\n",
       "      <td>-0.225775</td>\n",
       "      <td>-0.638672</td>\n",
       "      <td>0.101288</td>\n",
       "      <td>-0.339846</td>\n",
       "      <td>0.167170</td>\n",
       "      <td>0.125895</td>\n",
       "      <td>-0.008983</td>\n",
       "      <td>0.014724</td>\n",
       "      <td>2.69</td>\n",
       "      <td>0</td>\n",
       "    </tr>\n",
       "    <tr>\n",
       "      <th>2</th>\n",
       "      <td>1.0</td>\n",
       "      <td>-1.358354</td>\n",
       "      <td>-1.340163</td>\n",
       "      <td>1.773209</td>\n",
       "      <td>0.379780</td>\n",
       "      <td>-0.503198</td>\n",
       "      <td>1.800499</td>\n",
       "      <td>0.791461</td>\n",
       "      <td>0.247676</td>\n",
       "      <td>-1.514654</td>\n",
       "      <td>...</td>\n",
       "      <td>0.247998</td>\n",
       "      <td>0.771679</td>\n",
       "      <td>0.909412</td>\n",
       "      <td>-0.689281</td>\n",
       "      <td>-0.327642</td>\n",
       "      <td>-0.139097</td>\n",
       "      <td>-0.055353</td>\n",
       "      <td>-0.059752</td>\n",
       "      <td>378.66</td>\n",
       "      <td>0</td>\n",
       "    </tr>\n",
       "    <tr>\n",
       "      <th>3</th>\n",
       "      <td>1.0</td>\n",
       "      <td>-0.966272</td>\n",
       "      <td>-0.185226</td>\n",
       "      <td>1.792993</td>\n",
       "      <td>-0.863291</td>\n",
       "      <td>-0.010309</td>\n",
       "      <td>1.247203</td>\n",
       "      <td>0.237609</td>\n",
       "      <td>0.377436</td>\n",
       "      <td>-1.387024</td>\n",
       "      <td>...</td>\n",
       "      <td>-0.108300</td>\n",
       "      <td>0.005274</td>\n",
       "      <td>-0.190321</td>\n",
       "      <td>-1.175575</td>\n",
       "      <td>0.647376</td>\n",
       "      <td>-0.221929</td>\n",
       "      <td>0.062723</td>\n",
       "      <td>0.061458</td>\n",
       "      <td>123.50</td>\n",
       "      <td>0</td>\n",
       "    </tr>\n",
       "    <tr>\n",
       "      <th>4</th>\n",
       "      <td>2.0</td>\n",
       "      <td>-1.158233</td>\n",
       "      <td>0.877737</td>\n",
       "      <td>1.548718</td>\n",
       "      <td>0.403034</td>\n",
       "      <td>-0.407193</td>\n",
       "      <td>0.095921</td>\n",
       "      <td>0.592941</td>\n",
       "      <td>-0.270533</td>\n",
       "      <td>0.817739</td>\n",
       "      <td>...</td>\n",
       "      <td>-0.009431</td>\n",
       "      <td>0.798278</td>\n",
       "      <td>-0.137458</td>\n",
       "      <td>0.141267</td>\n",
       "      <td>-0.206010</td>\n",
       "      <td>0.502292</td>\n",
       "      <td>0.219422</td>\n",
       "      <td>0.215153</td>\n",
       "      <td>69.99</td>\n",
       "      <td>0</td>\n",
       "    </tr>\n",
       "  </tbody>\n",
       "</table>\n",
       "<p>5 rows × 31 columns</p>\n",
       "</div>"
      ],
      "text/plain": [
       "   Time        V1        V2        V3        V4        V5        V6        V7  \\\n",
       "0   0.0 -1.359807 -0.072781  2.536347  1.378155 -0.338321  0.462388  0.239599   \n",
       "1   0.0  1.191857  0.266151  0.166480  0.448154  0.060018 -0.082361 -0.078803   \n",
       "2   1.0 -1.358354 -1.340163  1.773209  0.379780 -0.503198  1.800499  0.791461   \n",
       "3   1.0 -0.966272 -0.185226  1.792993 -0.863291 -0.010309  1.247203  0.237609   \n",
       "4   2.0 -1.158233  0.877737  1.548718  0.403034 -0.407193  0.095921  0.592941   \n",
       "\n",
       "         V8        V9  ...       V21       V22       V23       V24       V25  \\\n",
       "0  0.098698  0.363787  ... -0.018307  0.277838 -0.110474  0.066928  0.128539   \n",
       "1  0.085102 -0.255425  ... -0.225775 -0.638672  0.101288 -0.339846  0.167170   \n",
       "2  0.247676 -1.514654  ...  0.247998  0.771679  0.909412 -0.689281 -0.327642   \n",
       "3  0.377436 -1.387024  ... -0.108300  0.005274 -0.190321 -1.175575  0.647376   \n",
       "4 -0.270533  0.817739  ... -0.009431  0.798278 -0.137458  0.141267 -0.206010   \n",
       "\n",
       "        V26       V27       V28  Amount  Class  \n",
       "0 -0.189115  0.133558 -0.021053  149.62      0  \n",
       "1  0.125895 -0.008983  0.014724    2.69      0  \n",
       "2 -0.139097 -0.055353 -0.059752  378.66      0  \n",
       "3 -0.221929  0.062723  0.061458  123.50      0  \n",
       "4  0.502292  0.219422  0.215153   69.99      0  \n",
       "\n",
       "[5 rows x 31 columns]"
      ]
     },
     "execution_count": 2,
     "metadata": {},
     "output_type": "execute_result"
    }
   ],
   "source": [
    "# Panda Dataframe\n",
    "\n",
    "raw_data = pd.read_csv('C:\\\\Users\\\\Nishant Gupta\\\\Desktop\\\\Projects\\\\classification_project_Nishant_Gupta\\\\creditcard.csv')\n",
    "\n",
    "# Let's have a look at the data\n",
    "\n",
    "raw_data.head()"
   ]
  },
  {
   "cell_type": "markdown",
   "id": "208c6eec",
   "metadata": {
    "papermill": {
     "duration": 0.009968,
     "end_time": "2022-09-01T20:12:19.912926",
     "exception": false,
     "start_time": "2022-09-01T20:12:19.902958",
     "status": "completed"
    },
    "tags": []
   },
   "source": [
    "So we have the first column as the transaction time. The columns V1 to V28 are the features related to the credit card. The companies cannot provide the names of features as it comes under sensitive information! Then column 'Amount' gives the credit card transactions in US dollars. Finally, we have the column 'Class' which tells us whether the transaction is legit or not so it only has two values: 1 and 0."
   ]
  },
  {
   "cell_type": "markdown",
   "id": "f6b6b4d6",
   "metadata": {
    "papermill": {
     "duration": 0.010175,
     "end_time": "2022-09-01T20:12:19.933760",
     "exception": false,
     "start_time": "2022-09-01T20:12:19.923585",
     "status": "completed"
    },
    "tags": []
   },
   "source": [
    "### Information about the dataset "
   ]
  },
  {
   "cell_type": "code",
   "execution_count": 3,
   "id": "c20a7b36",
   "metadata": {
    "execution": {
     "iopub.execute_input": "2022-09-01T20:12:19.956795Z",
     "iopub.status.busy": "2022-09-01T20:12:19.956130Z",
     "iopub.status.idle": "2022-09-01T20:12:19.963029Z",
     "shell.execute_reply": "2022-09-01T20:12:19.961821Z"
    },
    "papermill": {
     "duration": 0.021321,
     "end_time": "2022-09-01T20:12:19.965532",
     "exception": false,
     "start_time": "2022-09-01T20:12:19.944211",
     "status": "completed"
    },
    "tags": []
   },
   "outputs": [
    {
     "data": {
      "text/plain": [
       "(284807, 31)"
      ]
     },
     "execution_count": 3,
     "metadata": {},
     "output_type": "execute_result"
    }
   ],
   "source": [
    "# let's check the number of rows and columns in the dataset\n",
    "\n",
    "raw_data.shape"
   ]
  },
  {
   "cell_type": "markdown",
   "id": "bd71a958",
   "metadata": {
    "papermill": {
     "duration": 0.010068,
     "end_time": "2022-09-01T20:12:19.986235",
     "exception": false,
     "start_time": "2022-09-01T20:12:19.976167",
     "status": "completed"
    },
    "tags": []
   },
   "source": [
    "We have 284807 rows and 31 columns in this dataset. "
   ]
  },
  {
   "cell_type": "code",
   "execution_count": 4,
   "id": "64bf8bb4",
   "metadata": {
    "execution": {
     "iopub.execute_input": "2022-09-01T20:12:20.008750Z",
     "iopub.status.busy": "2022-09-01T20:12:20.008336Z",
     "iopub.status.idle": "2022-09-01T20:12:20.052129Z",
     "shell.execute_reply": "2022-09-01T20:12:20.050814Z"
    },
    "papermill": {
     "duration": 0.057936,
     "end_time": "2022-09-01T20:12:20.054623",
     "exception": false,
     "start_time": "2022-09-01T20:12:19.996687",
     "status": "completed"
    },
    "tags": []
   },
   "outputs": [
    {
     "name": "stdout",
     "output_type": "stream",
     "text": [
      "<class 'pandas.core.frame.DataFrame'>\n",
      "RangeIndex: 284807 entries, 0 to 284806\n",
      "Data columns (total 31 columns):\n",
      " #   Column  Non-Null Count   Dtype  \n",
      "---  ------  --------------   -----  \n",
      " 0   Time    284807 non-null  float64\n",
      " 1   V1      284807 non-null  float64\n",
      " 2   V2      284807 non-null  float64\n",
      " 3   V3      284807 non-null  float64\n",
      " 4   V4      284807 non-null  float64\n",
      " 5   V5      284807 non-null  float64\n",
      " 6   V6      284807 non-null  float64\n",
      " 7   V7      284807 non-null  float64\n",
      " 8   V8      284807 non-null  float64\n",
      " 9   V9      284807 non-null  float64\n",
      " 10  V10     284807 non-null  float64\n",
      " 11  V11     284807 non-null  float64\n",
      " 12  V12     284807 non-null  float64\n",
      " 13  V13     284807 non-null  float64\n",
      " 14  V14     284807 non-null  float64\n",
      " 15  V15     284807 non-null  float64\n",
      " 16  V16     284807 non-null  float64\n",
      " 17  V17     284807 non-null  float64\n",
      " 18  V18     284807 non-null  float64\n",
      " 19  V19     284807 non-null  float64\n",
      " 20  V20     284807 non-null  float64\n",
      " 21  V21     284807 non-null  float64\n",
      " 22  V22     284807 non-null  float64\n",
      " 23  V23     284807 non-null  float64\n",
      " 24  V24     284807 non-null  float64\n",
      " 25  V25     284807 non-null  float64\n",
      " 26  V26     284807 non-null  float64\n",
      " 27  V27     284807 non-null  float64\n",
      " 28  V28     284807 non-null  float64\n",
      " 29  Amount  284807 non-null  float64\n",
      " 30  Class   284807 non-null  int64  \n",
      "dtypes: float64(30), int64(1)\n",
      "memory usage: 67.4 MB\n"
     ]
    }
   ],
   "source": [
    "# Some information about the dataset\n",
    "\n",
    "raw_data.info()"
   ]
  },
  {
   "cell_type": "code",
   "execution_count": 5,
   "id": "8b3db447",
   "metadata": {
    "execution": {
     "iopub.execute_input": "2022-09-01T20:12:20.078510Z",
     "iopub.status.busy": "2022-09-01T20:12:20.077189Z",
     "iopub.status.idle": "2022-09-01T20:12:20.564809Z",
     "shell.execute_reply": "2022-09-01T20:12:20.563654Z"
    },
    "papermill": {
     "duration": 0.502239,
     "end_time": "2022-09-01T20:12:20.567660",
     "exception": false,
     "start_time": "2022-09-01T20:12:20.065421",
     "status": "completed"
    },
    "tags": []
   },
   "outputs": [
    {
     "data": {
      "text/html": [
       "<div>\n",
       "<style scoped>\n",
       "    .dataframe tbody tr th:only-of-type {\n",
       "        vertical-align: middle;\n",
       "    }\n",
       "\n",
       "    .dataframe tbody tr th {\n",
       "        vertical-align: top;\n",
       "    }\n",
       "\n",
       "    .dataframe thead th {\n",
       "        text-align: right;\n",
       "    }\n",
       "</style>\n",
       "<table border=\"1\" class=\"dataframe\">\n",
       "  <thead>\n",
       "    <tr style=\"text-align: right;\">\n",
       "      <th></th>\n",
       "      <th>Time</th>\n",
       "      <th>V1</th>\n",
       "      <th>V2</th>\n",
       "      <th>V3</th>\n",
       "      <th>V4</th>\n",
       "      <th>V5</th>\n",
       "      <th>V6</th>\n",
       "      <th>V7</th>\n",
       "      <th>V8</th>\n",
       "      <th>V9</th>\n",
       "      <th>...</th>\n",
       "      <th>V21</th>\n",
       "      <th>V22</th>\n",
       "      <th>V23</th>\n",
       "      <th>V24</th>\n",
       "      <th>V25</th>\n",
       "      <th>V26</th>\n",
       "      <th>V27</th>\n",
       "      <th>V28</th>\n",
       "      <th>Amount</th>\n",
       "      <th>Class</th>\n",
       "    </tr>\n",
       "  </thead>\n",
       "  <tbody>\n",
       "    <tr>\n",
       "      <th>count</th>\n",
       "      <td>284807.000000</td>\n",
       "      <td>2.848070e+05</td>\n",
       "      <td>2.848070e+05</td>\n",
       "      <td>2.848070e+05</td>\n",
       "      <td>2.848070e+05</td>\n",
       "      <td>2.848070e+05</td>\n",
       "      <td>2.848070e+05</td>\n",
       "      <td>2.848070e+05</td>\n",
       "      <td>2.848070e+05</td>\n",
       "      <td>2.848070e+05</td>\n",
       "      <td>...</td>\n",
       "      <td>2.848070e+05</td>\n",
       "      <td>2.848070e+05</td>\n",
       "      <td>2.848070e+05</td>\n",
       "      <td>2.848070e+05</td>\n",
       "      <td>2.848070e+05</td>\n",
       "      <td>2.848070e+05</td>\n",
       "      <td>2.848070e+05</td>\n",
       "      <td>2.848070e+05</td>\n",
       "      <td>284807.000000</td>\n",
       "      <td>284807.000000</td>\n",
       "    </tr>\n",
       "    <tr>\n",
       "      <th>mean</th>\n",
       "      <td>94813.859575</td>\n",
       "      <td>3.918649e-15</td>\n",
       "      <td>5.682686e-16</td>\n",
       "      <td>-8.761736e-15</td>\n",
       "      <td>2.811118e-15</td>\n",
       "      <td>-1.552103e-15</td>\n",
       "      <td>2.040130e-15</td>\n",
       "      <td>-1.698953e-15</td>\n",
       "      <td>-1.893285e-16</td>\n",
       "      <td>-3.147640e-15</td>\n",
       "      <td>...</td>\n",
       "      <td>1.473120e-16</td>\n",
       "      <td>8.042109e-16</td>\n",
       "      <td>5.282512e-16</td>\n",
       "      <td>4.456271e-15</td>\n",
       "      <td>1.426896e-15</td>\n",
       "      <td>1.701640e-15</td>\n",
       "      <td>-3.662252e-16</td>\n",
       "      <td>-1.217809e-16</td>\n",
       "      <td>88.349619</td>\n",
       "      <td>0.001727</td>\n",
       "    </tr>\n",
       "    <tr>\n",
       "      <th>std</th>\n",
       "      <td>47488.145955</td>\n",
       "      <td>1.958696e+00</td>\n",
       "      <td>1.651309e+00</td>\n",
       "      <td>1.516255e+00</td>\n",
       "      <td>1.415869e+00</td>\n",
       "      <td>1.380247e+00</td>\n",
       "      <td>1.332271e+00</td>\n",
       "      <td>1.237094e+00</td>\n",
       "      <td>1.194353e+00</td>\n",
       "      <td>1.098632e+00</td>\n",
       "      <td>...</td>\n",
       "      <td>7.345240e-01</td>\n",
       "      <td>7.257016e-01</td>\n",
       "      <td>6.244603e-01</td>\n",
       "      <td>6.056471e-01</td>\n",
       "      <td>5.212781e-01</td>\n",
       "      <td>4.822270e-01</td>\n",
       "      <td>4.036325e-01</td>\n",
       "      <td>3.300833e-01</td>\n",
       "      <td>250.120109</td>\n",
       "      <td>0.041527</td>\n",
       "    </tr>\n",
       "    <tr>\n",
       "      <th>min</th>\n",
       "      <td>0.000000</td>\n",
       "      <td>-5.640751e+01</td>\n",
       "      <td>-7.271573e+01</td>\n",
       "      <td>-4.832559e+01</td>\n",
       "      <td>-5.683171e+00</td>\n",
       "      <td>-1.137433e+02</td>\n",
       "      <td>-2.616051e+01</td>\n",
       "      <td>-4.355724e+01</td>\n",
       "      <td>-7.321672e+01</td>\n",
       "      <td>-1.343407e+01</td>\n",
       "      <td>...</td>\n",
       "      <td>-3.483038e+01</td>\n",
       "      <td>-1.093314e+01</td>\n",
       "      <td>-4.480774e+01</td>\n",
       "      <td>-2.836627e+00</td>\n",
       "      <td>-1.029540e+01</td>\n",
       "      <td>-2.604551e+00</td>\n",
       "      <td>-2.256568e+01</td>\n",
       "      <td>-1.543008e+01</td>\n",
       "      <td>0.000000</td>\n",
       "      <td>0.000000</td>\n",
       "    </tr>\n",
       "    <tr>\n",
       "      <th>25%</th>\n",
       "      <td>54201.500000</td>\n",
       "      <td>-9.203734e-01</td>\n",
       "      <td>-5.985499e-01</td>\n",
       "      <td>-8.903648e-01</td>\n",
       "      <td>-8.486401e-01</td>\n",
       "      <td>-6.915971e-01</td>\n",
       "      <td>-7.682956e-01</td>\n",
       "      <td>-5.540759e-01</td>\n",
       "      <td>-2.086297e-01</td>\n",
       "      <td>-6.430976e-01</td>\n",
       "      <td>...</td>\n",
       "      <td>-2.283949e-01</td>\n",
       "      <td>-5.423504e-01</td>\n",
       "      <td>-1.618463e-01</td>\n",
       "      <td>-3.545861e-01</td>\n",
       "      <td>-3.171451e-01</td>\n",
       "      <td>-3.269839e-01</td>\n",
       "      <td>-7.083953e-02</td>\n",
       "      <td>-5.295979e-02</td>\n",
       "      <td>5.600000</td>\n",
       "      <td>0.000000</td>\n",
       "    </tr>\n",
       "    <tr>\n",
       "      <th>50%</th>\n",
       "      <td>84692.000000</td>\n",
       "      <td>1.810880e-02</td>\n",
       "      <td>6.548556e-02</td>\n",
       "      <td>1.798463e-01</td>\n",
       "      <td>-1.984653e-02</td>\n",
       "      <td>-5.433583e-02</td>\n",
       "      <td>-2.741871e-01</td>\n",
       "      <td>4.010308e-02</td>\n",
       "      <td>2.235804e-02</td>\n",
       "      <td>-5.142873e-02</td>\n",
       "      <td>...</td>\n",
       "      <td>-2.945017e-02</td>\n",
       "      <td>6.781943e-03</td>\n",
       "      <td>-1.119293e-02</td>\n",
       "      <td>4.097606e-02</td>\n",
       "      <td>1.659350e-02</td>\n",
       "      <td>-5.213911e-02</td>\n",
       "      <td>1.342146e-03</td>\n",
       "      <td>1.124383e-02</td>\n",
       "      <td>22.000000</td>\n",
       "      <td>0.000000</td>\n",
       "    </tr>\n",
       "    <tr>\n",
       "      <th>75%</th>\n",
       "      <td>139320.500000</td>\n",
       "      <td>1.315642e+00</td>\n",
       "      <td>8.037239e-01</td>\n",
       "      <td>1.027196e+00</td>\n",
       "      <td>7.433413e-01</td>\n",
       "      <td>6.119264e-01</td>\n",
       "      <td>3.985649e-01</td>\n",
       "      <td>5.704361e-01</td>\n",
       "      <td>3.273459e-01</td>\n",
       "      <td>5.971390e-01</td>\n",
       "      <td>...</td>\n",
       "      <td>1.863772e-01</td>\n",
       "      <td>5.285536e-01</td>\n",
       "      <td>1.476421e-01</td>\n",
       "      <td>4.395266e-01</td>\n",
       "      <td>3.507156e-01</td>\n",
       "      <td>2.409522e-01</td>\n",
       "      <td>9.104512e-02</td>\n",
       "      <td>7.827995e-02</td>\n",
       "      <td>77.165000</td>\n",
       "      <td>0.000000</td>\n",
       "    </tr>\n",
       "    <tr>\n",
       "      <th>max</th>\n",
       "      <td>172792.000000</td>\n",
       "      <td>2.454930e+00</td>\n",
       "      <td>2.205773e+01</td>\n",
       "      <td>9.382558e+00</td>\n",
       "      <td>1.687534e+01</td>\n",
       "      <td>3.480167e+01</td>\n",
       "      <td>7.330163e+01</td>\n",
       "      <td>1.205895e+02</td>\n",
       "      <td>2.000721e+01</td>\n",
       "      <td>1.559499e+01</td>\n",
       "      <td>...</td>\n",
       "      <td>2.720284e+01</td>\n",
       "      <td>1.050309e+01</td>\n",
       "      <td>2.252841e+01</td>\n",
       "      <td>4.584549e+00</td>\n",
       "      <td>7.519589e+00</td>\n",
       "      <td>3.517346e+00</td>\n",
       "      <td>3.161220e+01</td>\n",
       "      <td>3.384781e+01</td>\n",
       "      <td>25691.160000</td>\n",
       "      <td>1.000000</td>\n",
       "    </tr>\n",
       "  </tbody>\n",
       "</table>\n",
       "<p>8 rows × 31 columns</p>\n",
       "</div>"
      ],
      "text/plain": [
       "                Time            V1            V2            V3            V4  \\\n",
       "count  284807.000000  2.848070e+05  2.848070e+05  2.848070e+05  2.848070e+05   \n",
       "mean    94813.859575  3.918649e-15  5.682686e-16 -8.761736e-15  2.811118e-15   \n",
       "std     47488.145955  1.958696e+00  1.651309e+00  1.516255e+00  1.415869e+00   \n",
       "min         0.000000 -5.640751e+01 -7.271573e+01 -4.832559e+01 -5.683171e+00   \n",
       "25%     54201.500000 -9.203734e-01 -5.985499e-01 -8.903648e-01 -8.486401e-01   \n",
       "50%     84692.000000  1.810880e-02  6.548556e-02  1.798463e-01 -1.984653e-02   \n",
       "75%    139320.500000  1.315642e+00  8.037239e-01  1.027196e+00  7.433413e-01   \n",
       "max    172792.000000  2.454930e+00  2.205773e+01  9.382558e+00  1.687534e+01   \n",
       "\n",
       "                 V5            V6            V7            V8            V9  \\\n",
       "count  2.848070e+05  2.848070e+05  2.848070e+05  2.848070e+05  2.848070e+05   \n",
       "mean  -1.552103e-15  2.040130e-15 -1.698953e-15 -1.893285e-16 -3.147640e-15   \n",
       "std    1.380247e+00  1.332271e+00  1.237094e+00  1.194353e+00  1.098632e+00   \n",
       "min   -1.137433e+02 -2.616051e+01 -4.355724e+01 -7.321672e+01 -1.343407e+01   \n",
       "25%   -6.915971e-01 -7.682956e-01 -5.540759e-01 -2.086297e-01 -6.430976e-01   \n",
       "50%   -5.433583e-02 -2.741871e-01  4.010308e-02  2.235804e-02 -5.142873e-02   \n",
       "75%    6.119264e-01  3.985649e-01  5.704361e-01  3.273459e-01  5.971390e-01   \n",
       "max    3.480167e+01  7.330163e+01  1.205895e+02  2.000721e+01  1.559499e+01   \n",
       "\n",
       "       ...           V21           V22           V23           V24  \\\n",
       "count  ...  2.848070e+05  2.848070e+05  2.848070e+05  2.848070e+05   \n",
       "mean   ...  1.473120e-16  8.042109e-16  5.282512e-16  4.456271e-15   \n",
       "std    ...  7.345240e-01  7.257016e-01  6.244603e-01  6.056471e-01   \n",
       "min    ... -3.483038e+01 -1.093314e+01 -4.480774e+01 -2.836627e+00   \n",
       "25%    ... -2.283949e-01 -5.423504e-01 -1.618463e-01 -3.545861e-01   \n",
       "50%    ... -2.945017e-02  6.781943e-03 -1.119293e-02  4.097606e-02   \n",
       "75%    ...  1.863772e-01  5.285536e-01  1.476421e-01  4.395266e-01   \n",
       "max    ...  2.720284e+01  1.050309e+01  2.252841e+01  4.584549e+00   \n",
       "\n",
       "                V25           V26           V27           V28         Amount  \\\n",
       "count  2.848070e+05  2.848070e+05  2.848070e+05  2.848070e+05  284807.000000   \n",
       "mean   1.426896e-15  1.701640e-15 -3.662252e-16 -1.217809e-16      88.349619   \n",
       "std    5.212781e-01  4.822270e-01  4.036325e-01  3.300833e-01     250.120109   \n",
       "min   -1.029540e+01 -2.604551e+00 -2.256568e+01 -1.543008e+01       0.000000   \n",
       "25%   -3.171451e-01 -3.269839e-01 -7.083953e-02 -5.295979e-02       5.600000   \n",
       "50%    1.659350e-02 -5.213911e-02  1.342146e-03  1.124383e-02      22.000000   \n",
       "75%    3.507156e-01  2.409522e-01  9.104512e-02  7.827995e-02      77.165000   \n",
       "max    7.519589e+00  3.517346e+00  3.161220e+01  3.384781e+01   25691.160000   \n",
       "\n",
       "               Class  \n",
       "count  284807.000000  \n",
       "mean        0.001727  \n",
       "std         0.041527  \n",
       "min         0.000000  \n",
       "25%         0.000000  \n",
       "50%         0.000000  \n",
       "75%         0.000000  \n",
       "max         1.000000  \n",
       "\n",
       "[8 rows x 31 columns]"
      ]
     },
     "execution_count": 5,
     "metadata": {},
     "output_type": "execute_result"
    }
   ],
   "source": [
    "# Let's have a look at the descriptive statistics of the dataset\n",
    "\n",
    "raw_data.describe(include='all')"
   ]
  },
  {
   "cell_type": "code",
   "execution_count": 6,
   "id": "78e8ef2f",
   "metadata": {
    "execution": {
     "iopub.execute_input": "2022-09-01T20:12:20.597049Z",
     "iopub.status.busy": "2022-09-01T20:12:20.596269Z",
     "iopub.status.idle": "2022-09-01T20:12:20.623301Z",
     "shell.execute_reply": "2022-09-01T20:12:20.622010Z"
    },
    "papermill": {
     "duration": 0.042551,
     "end_time": "2022-09-01T20:12:20.625918",
     "exception": false,
     "start_time": "2022-09-01T20:12:20.583367",
     "status": "completed"
    },
    "tags": []
   },
   "outputs": [
    {
     "data": {
      "text/plain": [
       "Time      0\n",
       "V1        0\n",
       "V2        0\n",
       "V3        0\n",
       "V4        0\n",
       "V5        0\n",
       "V6        0\n",
       "V7        0\n",
       "V8        0\n",
       "V9        0\n",
       "V10       0\n",
       "V11       0\n",
       "V12       0\n",
       "V13       0\n",
       "V14       0\n",
       "V15       0\n",
       "V16       0\n",
       "V17       0\n",
       "V18       0\n",
       "V19       0\n",
       "V20       0\n",
       "V21       0\n",
       "V22       0\n",
       "V23       0\n",
       "V24       0\n",
       "V25       0\n",
       "V26       0\n",
       "V27       0\n",
       "V28       0\n",
       "Amount    0\n",
       "Class     0\n",
       "dtype: int64"
      ]
     },
     "execution_count": 6,
     "metadata": {},
     "output_type": "execute_result"
    }
   ],
   "source": [
    "# Checking the total number of missing values\n",
    "\n",
    "raw_data.isnull().sum()"
   ]
  },
  {
   "cell_type": "markdown",
   "id": "746f9c77",
   "metadata": {
    "papermill": {
     "duration": 0.010954,
     "end_time": "2022-09-01T20:12:20.648502",
     "exception": false,
     "start_time": "2022-09-01T20:12:20.637548",
     "status": "completed"
    },
    "tags": []
   },
   "source": [
    "Great! There are no missing values, thus we won't have to eliminate any variables."
   ]
  },
  {
   "cell_type": "code",
   "execution_count": 7,
   "id": "0633d2f0",
   "metadata": {
    "execution": {
     "iopub.execute_input": "2022-09-01T20:12:20.673124Z",
     "iopub.status.busy": "2022-09-01T20:12:20.672529Z",
     "iopub.status.idle": "2022-09-01T20:12:20.714920Z",
     "shell.execute_reply": "2022-09-01T20:12:20.713760Z"
    },
    "papermill": {
     "duration": 0.057589,
     "end_time": "2022-09-01T20:12:20.717657",
     "exception": false,
     "start_time": "2022-09-01T20:12:20.660068",
     "status": "completed"
    },
    "tags": []
   },
   "outputs": [],
   "source": [
    "# We have checked the raw data and there aren't any missing values!\n",
    "\n",
    "data_no_mv = raw_data.copy()"
   ]
  },
  {
   "cell_type": "code",
   "execution_count": 8,
   "id": "ebe3c715",
   "metadata": {
    "execution": {
     "iopub.execute_input": "2022-09-01T20:12:20.743260Z",
     "iopub.status.busy": "2022-09-01T20:12:20.742033Z",
     "iopub.status.idle": "2022-09-01T20:12:20.752756Z",
     "shell.execute_reply": "2022-09-01T20:12:20.751913Z"
    },
    "papermill": {
     "duration": 0.026463,
     "end_time": "2022-09-01T20:12:20.755598",
     "exception": false,
     "start_time": "2022-09-01T20:12:20.729135",
     "status": "completed"
    },
    "tags": []
   },
   "outputs": [
    {
     "data": {
      "text/plain": [
       "0    284315\n",
       "1       492\n",
       "Name: Class, dtype: int64"
      ]
     },
     "execution_count": 8,
     "metadata": {},
     "output_type": "execute_result"
    }
   ],
   "source": [
    "# Checking the number of legit transactions and fraudulent transactions\n",
    "\n",
    "data_no_mv['Class'].value_counts()"
   ]
  },
  {
   "cell_type": "markdown",
   "id": "7fadc72e",
   "metadata": {
    "papermill": {
     "duration": 0.010978,
     "end_time": "2022-09-01T20:12:20.783185",
     "exception": false,
     "start_time": "2022-09-01T20:12:20.772207",
     "status": "completed"
    },
    "tags": []
   },
   "source": [
    "The dataset is very unbalanced as major data is fraudulent."
   ]
  },
  {
   "cell_type": "code",
   "execution_count": 9,
   "id": "d9bb0559",
   "metadata": {
    "execution": {
     "iopub.execute_input": "2022-09-01T20:12:20.808441Z",
     "iopub.status.busy": "2022-09-01T20:12:20.807157Z",
     "iopub.status.idle": "2022-09-01T20:12:20.879249Z",
     "shell.execute_reply": "2022-09-01T20:12:20.878048Z"
    },
    "papermill": {
     "duration": 0.087743,
     "end_time": "2022-09-01T20:12:20.882194",
     "exception": false,
     "start_time": "2022-09-01T20:12:20.794451",
     "status": "completed"
    },
    "tags": []
   },
   "outputs": [
    {
     "name": "stdout",
     "output_type": "stream",
     "text": [
      "(284315, 31)\n",
      "(492, 31)\n"
     ]
    }
   ],
   "source": [
    "# Seperating the data of legit and fraud transactions \n",
    "\n",
    "legit_trans = data_no_mv[data_no_mv.Class == 0]\n",
    "fraud_trans = data_no_mv[data_no_mv.Class == 1]\n",
    "\n",
    "# Let's have a look at the shape\n",
    "\n",
    "print(legit_trans.shape)\n",
    "print(fraud_trans.shape)"
   ]
  },
  {
   "cell_type": "code",
   "execution_count": 10,
   "id": "ea92b253",
   "metadata": {
    "execution": {
     "iopub.execute_input": "2022-09-01T20:12:20.911687Z",
     "iopub.status.busy": "2022-09-01T20:12:20.910740Z",
     "iopub.status.idle": "2022-09-01T20:12:20.935719Z",
     "shell.execute_reply": "2022-09-01T20:12:20.934701Z"
    },
    "papermill": {
     "duration": 0.041113,
     "end_time": "2022-09-01T20:12:20.938407",
     "exception": false,
     "start_time": "2022-09-01T20:12:20.897294",
     "status": "completed"
    },
    "tags": []
   },
   "outputs": [
    {
     "data": {
      "text/plain": [
       "count    284315.000000\n",
       "mean         88.291022\n",
       "std         250.105092\n",
       "min           0.000000\n",
       "25%           5.650000\n",
       "50%          22.000000\n",
       "75%          77.050000\n",
       "max       25691.160000\n",
       "Name: Amount, dtype: float64"
      ]
     },
     "execution_count": 10,
     "metadata": {},
     "output_type": "execute_result"
    }
   ],
   "source": [
    "# Let's see the statistical measures of this data\n",
    "\n",
    "legit_trans.Amount.describe()"
   ]
  },
  {
   "cell_type": "code",
   "execution_count": 11,
   "id": "96211507",
   "metadata": {
    "execution": {
     "iopub.execute_input": "2022-09-01T20:12:20.968363Z",
     "iopub.status.busy": "2022-09-01T20:12:20.967484Z",
     "iopub.status.idle": "2022-09-01T20:12:20.993783Z",
     "shell.execute_reply": "2022-09-01T20:12:20.992850Z"
    },
    "papermill": {
     "duration": 0.042166,
     "end_time": "2022-09-01T20:12:20.996410",
     "exception": false,
     "start_time": "2022-09-01T20:12:20.954244",
     "status": "completed"
    },
    "tags": []
   },
   "outputs": [
    {
     "data": {
      "text/plain": [
       "count    284315.000000\n",
       "mean         88.291022\n",
       "std         250.105092\n",
       "min           0.000000\n",
       "25%           5.650000\n",
       "50%          22.000000\n",
       "75%          77.050000\n",
       "max       25691.160000\n",
       "Name: Amount, dtype: float64"
      ]
     },
     "execution_count": 11,
     "metadata": {},
     "output_type": "execute_result"
    }
   ],
   "source": [
    "legit_trans.Amount.describe()"
   ]
  },
  {
   "cell_type": "code",
   "execution_count": 12,
   "id": "2c4122f7",
   "metadata": {
    "execution": {
     "iopub.execute_input": "2022-09-01T20:12:21.026092Z",
     "iopub.status.busy": "2022-09-01T20:12:21.025211Z",
     "iopub.status.idle": "2022-09-01T20:12:21.162077Z",
     "shell.execute_reply": "2022-09-01T20:12:21.160781Z"
    },
    "papermill": {
     "duration": 0.15301,
     "end_time": "2022-09-01T20:12:21.164967",
     "exception": false,
     "start_time": "2022-09-01T20:12:21.011957",
     "status": "completed"
    },
    "tags": []
   },
   "outputs": [
    {
     "data": {
      "text/html": [
       "<div>\n",
       "<style scoped>\n",
       "    .dataframe tbody tr th:only-of-type {\n",
       "        vertical-align: middle;\n",
       "    }\n",
       "\n",
       "    .dataframe tbody tr th {\n",
       "        vertical-align: top;\n",
       "    }\n",
       "\n",
       "    .dataframe thead th {\n",
       "        text-align: right;\n",
       "    }\n",
       "</style>\n",
       "<table border=\"1\" class=\"dataframe\">\n",
       "  <thead>\n",
       "    <tr style=\"text-align: right;\">\n",
       "      <th></th>\n",
       "      <th>Time</th>\n",
       "      <th>V1</th>\n",
       "      <th>V2</th>\n",
       "      <th>V3</th>\n",
       "      <th>V4</th>\n",
       "      <th>V5</th>\n",
       "      <th>V6</th>\n",
       "      <th>V7</th>\n",
       "      <th>V8</th>\n",
       "      <th>V9</th>\n",
       "      <th>...</th>\n",
       "      <th>V20</th>\n",
       "      <th>V21</th>\n",
       "      <th>V22</th>\n",
       "      <th>V23</th>\n",
       "      <th>V24</th>\n",
       "      <th>V25</th>\n",
       "      <th>V26</th>\n",
       "      <th>V27</th>\n",
       "      <th>V28</th>\n",
       "      <th>Amount</th>\n",
       "    </tr>\n",
       "    <tr>\n",
       "      <th>Class</th>\n",
       "      <th></th>\n",
       "      <th></th>\n",
       "      <th></th>\n",
       "      <th></th>\n",
       "      <th></th>\n",
       "      <th></th>\n",
       "      <th></th>\n",
       "      <th></th>\n",
       "      <th></th>\n",
       "      <th></th>\n",
       "      <th></th>\n",
       "      <th></th>\n",
       "      <th></th>\n",
       "      <th></th>\n",
       "      <th></th>\n",
       "      <th></th>\n",
       "      <th></th>\n",
       "      <th></th>\n",
       "      <th></th>\n",
       "      <th></th>\n",
       "      <th></th>\n",
       "    </tr>\n",
       "  </thead>\n",
       "  <tbody>\n",
       "    <tr>\n",
       "      <th>0</th>\n",
       "      <td>94838.202258</td>\n",
       "      <td>0.008258</td>\n",
       "      <td>-0.006271</td>\n",
       "      <td>0.012171</td>\n",
       "      <td>-0.007860</td>\n",
       "      <td>0.005453</td>\n",
       "      <td>0.002419</td>\n",
       "      <td>0.009637</td>\n",
       "      <td>-0.000987</td>\n",
       "      <td>0.004467</td>\n",
       "      <td>...</td>\n",
       "      <td>-0.000644</td>\n",
       "      <td>-0.001235</td>\n",
       "      <td>-0.000024</td>\n",
       "      <td>0.000070</td>\n",
       "      <td>0.000182</td>\n",
       "      <td>-0.000072</td>\n",
       "      <td>-0.000089</td>\n",
       "      <td>-0.000295</td>\n",
       "      <td>-0.000131</td>\n",
       "      <td>88.291022</td>\n",
       "    </tr>\n",
       "    <tr>\n",
       "      <th>1</th>\n",
       "      <td>80746.806911</td>\n",
       "      <td>-4.771948</td>\n",
       "      <td>3.623778</td>\n",
       "      <td>-7.033281</td>\n",
       "      <td>4.542029</td>\n",
       "      <td>-3.151225</td>\n",
       "      <td>-1.397737</td>\n",
       "      <td>-5.568731</td>\n",
       "      <td>0.570636</td>\n",
       "      <td>-2.581123</td>\n",
       "      <td>...</td>\n",
       "      <td>0.372319</td>\n",
       "      <td>0.713588</td>\n",
       "      <td>0.014049</td>\n",
       "      <td>-0.040308</td>\n",
       "      <td>-0.105130</td>\n",
       "      <td>0.041449</td>\n",
       "      <td>0.051648</td>\n",
       "      <td>0.170575</td>\n",
       "      <td>0.075667</td>\n",
       "      <td>122.211321</td>\n",
       "    </tr>\n",
       "  </tbody>\n",
       "</table>\n",
       "<p>2 rows × 30 columns</p>\n",
       "</div>"
      ],
      "text/plain": [
       "               Time        V1        V2        V3        V4        V5  \\\n",
       "Class                                                                   \n",
       "0      94838.202258  0.008258 -0.006271  0.012171 -0.007860  0.005453   \n",
       "1      80746.806911 -4.771948  3.623778 -7.033281  4.542029 -3.151225   \n",
       "\n",
       "             V6        V7        V8        V9  ...       V20       V21  \\\n",
       "Class                                          ...                       \n",
       "0      0.002419  0.009637 -0.000987  0.004467  ... -0.000644 -0.001235   \n",
       "1     -1.397737 -5.568731  0.570636 -2.581123  ...  0.372319  0.713588   \n",
       "\n",
       "            V22       V23       V24       V25       V26       V27       V28  \\\n",
       "Class                                                                         \n",
       "0     -0.000024  0.000070  0.000182 -0.000072 -0.000089 -0.000295 -0.000131   \n",
       "1      0.014049 -0.040308 -0.105130  0.041449  0.051648  0.170575  0.075667   \n",
       "\n",
       "           Amount  \n",
       "Class              \n",
       "0       88.291022  \n",
       "1      122.211321  \n",
       "\n",
       "[2 rows x 30 columns]"
      ]
     },
     "execution_count": 12,
     "metadata": {},
     "output_type": "execute_result"
    }
   ],
   "source": [
    "# compare the value for both transactions\n",
    "\n",
    "data_no_mv.groupby('Class').mean()"
   ]
  },
  {
   "cell_type": "markdown",
   "id": "8ee3b641",
   "metadata": {
    "papermill": {
     "duration": 0.011684,
     "end_time": "2022-09-01T20:12:21.188867",
     "exception": false,
     "start_time": "2022-09-01T20:12:21.177183",
     "status": "completed"
    },
    "tags": []
   },
   "source": [
    "<a id=\"section-three\"></a>\n",
    "## 3. Data Pre-Processing "
   ]
  },
  {
   "cell_type": "markdown",
   "id": "b972c86d",
   "metadata": {
    "papermill": {
     "duration": 0.01244,
     "end_time": "2022-09-01T20:12:21.213643",
     "exception": false,
     "start_time": "2022-09-01T20:12:21.201203",
     "status": "completed"
    },
    "tags": []
   },
   "source": [
    "### Under-Sampling "
   ]
  },
  {
   "cell_type": "markdown",
   "id": "23a9f0c8",
   "metadata": {
    "papermill": {
     "duration": 0.011573,
     "end_time": "2022-09-01T20:12:21.237228",
     "exception": false,
     "start_time": "2022-09-01T20:12:21.225655",
     "status": "completed"
    },
    "tags": []
   },
   "source": [
    "We'll create a sample dataset with a similar distribution of legit and fraudulent transactions. As we know that there are 492 fraudulent transactions, so we will take 492 legit transactions and make an uniform dataset for the machine."
   ]
  },
  {
   "cell_type": "code",
   "execution_count": 13,
   "id": "4f0716a2",
   "metadata": {
    "execution": {
     "iopub.execute_input": "2022-09-01T20:12:21.263211Z",
     "iopub.status.busy": "2022-09-01T20:12:21.262459Z",
     "iopub.status.idle": "2022-09-01T20:12:21.277592Z",
     "shell.execute_reply": "2022-09-01T20:12:21.276167Z"
    },
    "papermill": {
     "duration": 0.03103,
     "end_time": "2022-09-01T20:12:21.280161",
     "exception": false,
     "start_time": "2022-09-01T20:12:21.249131",
     "status": "completed"
    },
    "tags": []
   },
   "outputs": [],
   "source": [
    "# taking random data from 'legit_trans'\n",
    "\n",
    "legit_trans_data = legit_trans.sample(n = 492)"
   ]
  },
  {
   "cell_type": "markdown",
   "id": "32b09027",
   "metadata": {
    "papermill": {
     "duration": 0.011493,
     "end_time": "2022-09-01T20:12:21.303694",
     "exception": false,
     "start_time": "2022-09-01T20:12:21.292201",
     "status": "completed"
    },
    "tags": []
   },
   "source": [
    "### Concatenating the two dataframes "
   ]
  },
  {
   "cell_type": "code",
   "execution_count": 14,
   "id": "a8045a4b",
   "metadata": {
    "execution": {
     "iopub.execute_input": "2022-09-01T20:12:21.330003Z",
     "iopub.status.busy": "2022-09-01T20:12:21.328535Z",
     "iopub.status.idle": "2022-09-01T20:12:21.356952Z",
     "shell.execute_reply": "2022-09-01T20:12:21.355720Z"
    },
    "papermill": {
     "duration": 0.044057,
     "end_time": "2022-09-01T20:12:21.359507",
     "exception": false,
     "start_time": "2022-09-01T20:12:21.315450",
     "status": "completed"
    },
    "tags": []
   },
   "outputs": [
    {
     "data": {
      "text/html": [
       "<div>\n",
       "<style scoped>\n",
       "    .dataframe tbody tr th:only-of-type {\n",
       "        vertical-align: middle;\n",
       "    }\n",
       "\n",
       "    .dataframe tbody tr th {\n",
       "        vertical-align: top;\n",
       "    }\n",
       "\n",
       "    .dataframe thead th {\n",
       "        text-align: right;\n",
       "    }\n",
       "</style>\n",
       "<table border=\"1\" class=\"dataframe\">\n",
       "  <thead>\n",
       "    <tr style=\"text-align: right;\">\n",
       "      <th></th>\n",
       "      <th>Time</th>\n",
       "      <th>V1</th>\n",
       "      <th>V2</th>\n",
       "      <th>V3</th>\n",
       "      <th>V4</th>\n",
       "      <th>V5</th>\n",
       "      <th>V6</th>\n",
       "      <th>V7</th>\n",
       "      <th>V8</th>\n",
       "      <th>V9</th>\n",
       "      <th>...</th>\n",
       "      <th>V21</th>\n",
       "      <th>V22</th>\n",
       "      <th>V23</th>\n",
       "      <th>V24</th>\n",
       "      <th>V25</th>\n",
       "      <th>V26</th>\n",
       "      <th>V27</th>\n",
       "      <th>V28</th>\n",
       "      <th>Amount</th>\n",
       "      <th>Class</th>\n",
       "    </tr>\n",
       "  </thead>\n",
       "  <tbody>\n",
       "    <tr>\n",
       "      <th>93818</th>\n",
       "      <td>64597.0</td>\n",
       "      <td>-0.918553</td>\n",
       "      <td>0.015830</td>\n",
       "      <td>2.120920</td>\n",
       "      <td>1.553505</td>\n",
       "      <td>-0.423409</td>\n",
       "      <td>0.833818</td>\n",
       "      <td>0.339391</td>\n",
       "      <td>0.406425</td>\n",
       "      <td>-0.122008</td>\n",
       "      <td>...</td>\n",
       "      <td>0.163667</td>\n",
       "      <td>0.463342</td>\n",
       "      <td>0.142858</td>\n",
       "      <td>0.233866</td>\n",
       "      <td>0.061847</td>\n",
       "      <td>-0.168984</td>\n",
       "      <td>0.119155</td>\n",
       "      <td>0.123019</td>\n",
       "      <td>144.00</td>\n",
       "      <td>0</td>\n",
       "    </tr>\n",
       "    <tr>\n",
       "      <th>274770</th>\n",
       "      <td>166197.0</td>\n",
       "      <td>2.062917</td>\n",
       "      <td>0.598278</td>\n",
       "      <td>-3.171718</td>\n",
       "      <td>0.619652</td>\n",
       "      <td>1.216218</td>\n",
       "      <td>-1.370544</td>\n",
       "      <td>0.673803</td>\n",
       "      <td>-0.300302</td>\n",
       "      <td>-0.126312</td>\n",
       "      <td>...</td>\n",
       "      <td>-0.023905</td>\n",
       "      <td>0.065600</td>\n",
       "      <td>-0.040816</td>\n",
       "      <td>0.574319</td>\n",
       "      <td>0.340788</td>\n",
       "      <td>0.661243</td>\n",
       "      <td>-0.090195</td>\n",
       "      <td>-0.024159</td>\n",
       "      <td>0.76</td>\n",
       "      <td>0</td>\n",
       "    </tr>\n",
       "    <tr>\n",
       "      <th>37795</th>\n",
       "      <td>39112.0</td>\n",
       "      <td>-0.991217</td>\n",
       "      <td>-1.526123</td>\n",
       "      <td>0.378366</td>\n",
       "      <td>-3.452506</td>\n",
       "      <td>2.041132</td>\n",
       "      <td>2.919554</td>\n",
       "      <td>-1.165466</td>\n",
       "      <td>0.955882</td>\n",
       "      <td>-2.424556</td>\n",
       "      <td>...</td>\n",
       "      <td>-0.240513</td>\n",
       "      <td>-0.930630</td>\n",
       "      <td>0.234000</td>\n",
       "      <td>0.921573</td>\n",
       "      <td>0.066079</td>\n",
       "      <td>-0.557546</td>\n",
       "      <td>0.048891</td>\n",
       "      <td>0.119853</td>\n",
       "      <td>70.65</td>\n",
       "      <td>0</td>\n",
       "    </tr>\n",
       "    <tr>\n",
       "      <th>147906</th>\n",
       "      <td>89150.0</td>\n",
       "      <td>-0.607481</td>\n",
       "      <td>1.591984</td>\n",
       "      <td>-0.501440</td>\n",
       "      <td>-0.831155</td>\n",
       "      <td>1.143260</td>\n",
       "      <td>-0.806412</td>\n",
       "      <td>1.430396</td>\n",
       "      <td>-0.582221</td>\n",
       "      <td>0.829910</td>\n",
       "      <td>...</td>\n",
       "      <td>-0.566223</td>\n",
       "      <td>-0.769652</td>\n",
       "      <td>0.068244</td>\n",
       "      <td>0.578502</td>\n",
       "      <td>-0.214609</td>\n",
       "      <td>0.073541</td>\n",
       "      <td>0.338678</td>\n",
       "      <td>-0.111048</td>\n",
       "      <td>9.82</td>\n",
       "      <td>0</td>\n",
       "    </tr>\n",
       "    <tr>\n",
       "      <th>180048</th>\n",
       "      <td>124355.0</td>\n",
       "      <td>2.020676</td>\n",
       "      <td>-1.233668</td>\n",
       "      <td>0.383631</td>\n",
       "      <td>-0.270398</td>\n",
       "      <td>-1.887890</td>\n",
       "      <td>-0.314573</td>\n",
       "      <td>-1.555640</td>\n",
       "      <td>0.105692</td>\n",
       "      <td>0.600893</td>\n",
       "      <td>...</td>\n",
       "      <td>-0.143898</td>\n",
       "      <td>0.160355</td>\n",
       "      <td>0.318351</td>\n",
       "      <td>0.039336</td>\n",
       "      <td>-0.710591</td>\n",
       "      <td>0.623270</td>\n",
       "      <td>0.021355</td>\n",
       "      <td>-0.026448</td>\n",
       "      <td>33.85</td>\n",
       "      <td>0</td>\n",
       "    </tr>\n",
       "  </tbody>\n",
       "</table>\n",
       "<p>5 rows × 31 columns</p>\n",
       "</div>"
      ],
      "text/plain": [
       "            Time        V1        V2        V3        V4        V5        V6  \\\n",
       "93818    64597.0 -0.918553  0.015830  2.120920  1.553505 -0.423409  0.833818   \n",
       "274770  166197.0  2.062917  0.598278 -3.171718  0.619652  1.216218 -1.370544   \n",
       "37795    39112.0 -0.991217 -1.526123  0.378366 -3.452506  2.041132  2.919554   \n",
       "147906   89150.0 -0.607481  1.591984 -0.501440 -0.831155  1.143260 -0.806412   \n",
       "180048  124355.0  2.020676 -1.233668  0.383631 -0.270398 -1.887890 -0.314573   \n",
       "\n",
       "              V7        V8        V9  ...       V21       V22       V23  \\\n",
       "93818   0.339391  0.406425 -0.122008  ...  0.163667  0.463342  0.142858   \n",
       "274770  0.673803 -0.300302 -0.126312  ... -0.023905  0.065600 -0.040816   \n",
       "37795  -1.165466  0.955882 -2.424556  ... -0.240513 -0.930630  0.234000   \n",
       "147906  1.430396 -0.582221  0.829910  ... -0.566223 -0.769652  0.068244   \n",
       "180048 -1.555640  0.105692  0.600893  ... -0.143898  0.160355  0.318351   \n",
       "\n",
       "             V24       V25       V26       V27       V28  Amount  Class  \n",
       "93818   0.233866  0.061847 -0.168984  0.119155  0.123019  144.00      0  \n",
       "274770  0.574319  0.340788  0.661243 -0.090195 -0.024159    0.76      0  \n",
       "37795   0.921573  0.066079 -0.557546  0.048891  0.119853   70.65      0  \n",
       "147906  0.578502 -0.214609  0.073541  0.338678 -0.111048    9.82      0  \n",
       "180048  0.039336 -0.710591  0.623270  0.021355 -0.026448   33.85      0  \n",
       "\n",
       "[5 rows x 31 columns]"
      ]
     },
     "execution_count": 14,
     "metadata": {},
     "output_type": "execute_result"
    }
   ],
   "source": [
    "data = pd.concat([legit_trans_data, fraud_trans], axis = 0)\n",
    "\n",
    "# Let's have a look at the new dataframe\n",
    "\n",
    "data.head()"
   ]
  },
  {
   "cell_type": "code",
   "execution_count": 15,
   "id": "701375e1",
   "metadata": {
    "execution": {
     "iopub.execute_input": "2022-09-01T20:12:21.385620Z",
     "iopub.status.busy": "2022-09-01T20:12:21.385183Z",
     "iopub.status.idle": "2022-09-01T20:12:21.411759Z",
     "shell.execute_reply": "2022-09-01T20:12:21.410653Z"
    },
    "papermill": {
     "duration": 0.042803,
     "end_time": "2022-09-01T20:12:21.414647",
     "exception": false,
     "start_time": "2022-09-01T20:12:21.371844",
     "status": "completed"
    },
    "tags": []
   },
   "outputs": [
    {
     "data": {
      "text/html": [
       "<div>\n",
       "<style scoped>\n",
       "    .dataframe tbody tr th:only-of-type {\n",
       "        vertical-align: middle;\n",
       "    }\n",
       "\n",
       "    .dataframe tbody tr th {\n",
       "        vertical-align: top;\n",
       "    }\n",
       "\n",
       "    .dataframe thead th {\n",
       "        text-align: right;\n",
       "    }\n",
       "</style>\n",
       "<table border=\"1\" class=\"dataframe\">\n",
       "  <thead>\n",
       "    <tr style=\"text-align: right;\">\n",
       "      <th></th>\n",
       "      <th>Time</th>\n",
       "      <th>V1</th>\n",
       "      <th>V2</th>\n",
       "      <th>V3</th>\n",
       "      <th>V4</th>\n",
       "      <th>V5</th>\n",
       "      <th>V6</th>\n",
       "      <th>V7</th>\n",
       "      <th>V8</th>\n",
       "      <th>V9</th>\n",
       "      <th>...</th>\n",
       "      <th>V21</th>\n",
       "      <th>V22</th>\n",
       "      <th>V23</th>\n",
       "      <th>V24</th>\n",
       "      <th>V25</th>\n",
       "      <th>V26</th>\n",
       "      <th>V27</th>\n",
       "      <th>V28</th>\n",
       "      <th>Amount</th>\n",
       "      <th>Class</th>\n",
       "    </tr>\n",
       "  </thead>\n",
       "  <tbody>\n",
       "    <tr>\n",
       "      <th>279863</th>\n",
       "      <td>169142.0</td>\n",
       "      <td>-1.927883</td>\n",
       "      <td>1.125653</td>\n",
       "      <td>-4.518331</td>\n",
       "      <td>1.749293</td>\n",
       "      <td>-1.566487</td>\n",
       "      <td>-2.010494</td>\n",
       "      <td>-0.882850</td>\n",
       "      <td>0.697211</td>\n",
       "      <td>-2.064945</td>\n",
       "      <td>...</td>\n",
       "      <td>0.778584</td>\n",
       "      <td>-0.319189</td>\n",
       "      <td>0.639419</td>\n",
       "      <td>-0.294885</td>\n",
       "      <td>0.537503</td>\n",
       "      <td>0.788395</td>\n",
       "      <td>0.292680</td>\n",
       "      <td>0.147968</td>\n",
       "      <td>390.00</td>\n",
       "      <td>1</td>\n",
       "    </tr>\n",
       "    <tr>\n",
       "      <th>280143</th>\n",
       "      <td>169347.0</td>\n",
       "      <td>1.378559</td>\n",
       "      <td>1.289381</td>\n",
       "      <td>-5.004247</td>\n",
       "      <td>1.411850</td>\n",
       "      <td>0.442581</td>\n",
       "      <td>-1.326536</td>\n",
       "      <td>-1.413170</td>\n",
       "      <td>0.248525</td>\n",
       "      <td>-1.127396</td>\n",
       "      <td>...</td>\n",
       "      <td>0.370612</td>\n",
       "      <td>0.028234</td>\n",
       "      <td>-0.145640</td>\n",
       "      <td>-0.081049</td>\n",
       "      <td>0.521875</td>\n",
       "      <td>0.739467</td>\n",
       "      <td>0.389152</td>\n",
       "      <td>0.186637</td>\n",
       "      <td>0.76</td>\n",
       "      <td>1</td>\n",
       "    </tr>\n",
       "    <tr>\n",
       "      <th>280149</th>\n",
       "      <td>169351.0</td>\n",
       "      <td>-0.676143</td>\n",
       "      <td>1.126366</td>\n",
       "      <td>-2.213700</td>\n",
       "      <td>0.468308</td>\n",
       "      <td>-1.120541</td>\n",
       "      <td>-0.003346</td>\n",
       "      <td>-2.234739</td>\n",
       "      <td>1.210158</td>\n",
       "      <td>-0.652250</td>\n",
       "      <td>...</td>\n",
       "      <td>0.751826</td>\n",
       "      <td>0.834108</td>\n",
       "      <td>0.190944</td>\n",
       "      <td>0.032070</td>\n",
       "      <td>-0.739695</td>\n",
       "      <td>0.471111</td>\n",
       "      <td>0.385107</td>\n",
       "      <td>0.194361</td>\n",
       "      <td>77.89</td>\n",
       "      <td>1</td>\n",
       "    </tr>\n",
       "    <tr>\n",
       "      <th>281144</th>\n",
       "      <td>169966.0</td>\n",
       "      <td>-3.113832</td>\n",
       "      <td>0.585864</td>\n",
       "      <td>-5.399730</td>\n",
       "      <td>1.817092</td>\n",
       "      <td>-0.840618</td>\n",
       "      <td>-2.943548</td>\n",
       "      <td>-2.208002</td>\n",
       "      <td>1.058733</td>\n",
       "      <td>-1.632333</td>\n",
       "      <td>...</td>\n",
       "      <td>0.583276</td>\n",
       "      <td>-0.269209</td>\n",
       "      <td>-0.456108</td>\n",
       "      <td>-0.183659</td>\n",
       "      <td>-0.328168</td>\n",
       "      <td>0.606116</td>\n",
       "      <td>0.884876</td>\n",
       "      <td>-0.253700</td>\n",
       "      <td>245.00</td>\n",
       "      <td>1</td>\n",
       "    </tr>\n",
       "    <tr>\n",
       "      <th>281674</th>\n",
       "      <td>170348.0</td>\n",
       "      <td>1.991976</td>\n",
       "      <td>0.158476</td>\n",
       "      <td>-2.583441</td>\n",
       "      <td>0.408670</td>\n",
       "      <td>1.151147</td>\n",
       "      <td>-0.096695</td>\n",
       "      <td>0.223050</td>\n",
       "      <td>-0.068384</td>\n",
       "      <td>0.577829</td>\n",
       "      <td>...</td>\n",
       "      <td>-0.164350</td>\n",
       "      <td>-0.295135</td>\n",
       "      <td>-0.072173</td>\n",
       "      <td>-0.450261</td>\n",
       "      <td>0.313267</td>\n",
       "      <td>-0.289617</td>\n",
       "      <td>0.002988</td>\n",
       "      <td>-0.015309</td>\n",
       "      <td>42.53</td>\n",
       "      <td>1</td>\n",
       "    </tr>\n",
       "  </tbody>\n",
       "</table>\n",
       "<p>5 rows × 31 columns</p>\n",
       "</div>"
      ],
      "text/plain": [
       "            Time        V1        V2        V3        V4        V5        V6  \\\n",
       "279863  169142.0 -1.927883  1.125653 -4.518331  1.749293 -1.566487 -2.010494   \n",
       "280143  169347.0  1.378559  1.289381 -5.004247  1.411850  0.442581 -1.326536   \n",
       "280149  169351.0 -0.676143  1.126366 -2.213700  0.468308 -1.120541 -0.003346   \n",
       "281144  169966.0 -3.113832  0.585864 -5.399730  1.817092 -0.840618 -2.943548   \n",
       "281674  170348.0  1.991976  0.158476 -2.583441  0.408670  1.151147 -0.096695   \n",
       "\n",
       "              V7        V8        V9  ...       V21       V22       V23  \\\n",
       "279863 -0.882850  0.697211 -2.064945  ...  0.778584 -0.319189  0.639419   \n",
       "280143 -1.413170  0.248525 -1.127396  ...  0.370612  0.028234 -0.145640   \n",
       "280149 -2.234739  1.210158 -0.652250  ...  0.751826  0.834108  0.190944   \n",
       "281144 -2.208002  1.058733 -1.632333  ...  0.583276 -0.269209 -0.456108   \n",
       "281674  0.223050 -0.068384  0.577829  ... -0.164350 -0.295135 -0.072173   \n",
       "\n",
       "             V24       V25       V26       V27       V28  Amount  Class  \n",
       "279863 -0.294885  0.537503  0.788395  0.292680  0.147968  390.00      1  \n",
       "280143 -0.081049  0.521875  0.739467  0.389152  0.186637    0.76      1  \n",
       "280149  0.032070 -0.739695  0.471111  0.385107  0.194361   77.89      1  \n",
       "281144 -0.183659 -0.328168  0.606116  0.884876 -0.253700  245.00      1  \n",
       "281674 -0.450261  0.313267 -0.289617  0.002988 -0.015309   42.53      1  \n",
       "\n",
       "[5 rows x 31 columns]"
      ]
     },
     "execution_count": 15,
     "metadata": {},
     "output_type": "execute_result"
    }
   ],
   "source": [
    "data.tail()"
   ]
  },
  {
   "cell_type": "code",
   "execution_count": 16,
   "id": "89fbea59",
   "metadata": {
    "execution": {
     "iopub.execute_input": "2022-09-01T20:12:21.442927Z",
     "iopub.status.busy": "2022-09-01T20:12:21.441875Z",
     "iopub.status.idle": "2022-09-01T20:12:21.449977Z",
     "shell.execute_reply": "2022-09-01T20:12:21.449117Z"
    },
    "papermill": {
     "duration": 0.024519,
     "end_time": "2022-09-01T20:12:21.452137",
     "exception": false,
     "start_time": "2022-09-01T20:12:21.427618",
     "status": "completed"
    },
    "tags": []
   },
   "outputs": [
    {
     "data": {
      "text/plain": [
       "0    492\n",
       "1    492\n",
       "Name: Class, dtype: int64"
      ]
     },
     "execution_count": 16,
     "metadata": {},
     "output_type": "execute_result"
    }
   ],
   "source": [
    "data['Class'].value_counts()"
   ]
  },
  {
   "cell_type": "markdown",
   "id": "2cf8475f",
   "metadata": {
    "papermill": {
     "duration": 0.01237,
     "end_time": "2022-09-01T20:12:21.477185",
     "exception": false,
     "start_time": "2022-09-01T20:12:21.464815",
     "status": "completed"
    },
    "tags": []
   },
   "source": [
    "Nice! Now we have an uniform dataset with 492 legit & fraudulent transactions each."
   ]
  },
  {
   "cell_type": "code",
   "execution_count": 17,
   "id": "530732b1",
   "metadata": {
    "execution": {
     "iopub.execute_input": "2022-09-01T20:12:21.504538Z",
     "iopub.status.busy": "2022-09-01T20:12:21.503757Z",
     "iopub.status.idle": "2022-09-01T20:12:21.528976Z",
     "shell.execute_reply": "2022-09-01T20:12:21.527721Z"
    },
    "papermill": {
     "duration": 0.041699,
     "end_time": "2022-09-01T20:12:21.531407",
     "exception": false,
     "start_time": "2022-09-01T20:12:21.489708",
     "status": "completed"
    },
    "tags": []
   },
   "outputs": [
    {
     "data": {
      "text/html": [
       "<div>\n",
       "<style scoped>\n",
       "    .dataframe tbody tr th:only-of-type {\n",
       "        vertical-align: middle;\n",
       "    }\n",
       "\n",
       "    .dataframe tbody tr th {\n",
       "        vertical-align: top;\n",
       "    }\n",
       "\n",
       "    .dataframe thead th {\n",
       "        text-align: right;\n",
       "    }\n",
       "</style>\n",
       "<table border=\"1\" class=\"dataframe\">\n",
       "  <thead>\n",
       "    <tr style=\"text-align: right;\">\n",
       "      <th></th>\n",
       "      <th>Time</th>\n",
       "      <th>V1</th>\n",
       "      <th>V2</th>\n",
       "      <th>V3</th>\n",
       "      <th>V4</th>\n",
       "      <th>V5</th>\n",
       "      <th>V6</th>\n",
       "      <th>V7</th>\n",
       "      <th>V8</th>\n",
       "      <th>V9</th>\n",
       "      <th>...</th>\n",
       "      <th>V20</th>\n",
       "      <th>V21</th>\n",
       "      <th>V22</th>\n",
       "      <th>V23</th>\n",
       "      <th>V24</th>\n",
       "      <th>V25</th>\n",
       "      <th>V26</th>\n",
       "      <th>V27</th>\n",
       "      <th>V28</th>\n",
       "      <th>Amount</th>\n",
       "    </tr>\n",
       "    <tr>\n",
       "      <th>Class</th>\n",
       "      <th></th>\n",
       "      <th></th>\n",
       "      <th></th>\n",
       "      <th></th>\n",
       "      <th></th>\n",
       "      <th></th>\n",
       "      <th></th>\n",
       "      <th></th>\n",
       "      <th></th>\n",
       "      <th></th>\n",
       "      <th></th>\n",
       "      <th></th>\n",
       "      <th></th>\n",
       "      <th></th>\n",
       "      <th></th>\n",
       "      <th></th>\n",
       "      <th></th>\n",
       "      <th></th>\n",
       "      <th></th>\n",
       "      <th></th>\n",
       "      <th></th>\n",
       "    </tr>\n",
       "  </thead>\n",
       "  <tbody>\n",
       "    <tr>\n",
       "      <th>0</th>\n",
       "      <td>94374.121951</td>\n",
       "      <td>-0.022516</td>\n",
       "      <td>-0.043333</td>\n",
       "      <td>-0.037764</td>\n",
       "      <td>-0.070177</td>\n",
       "      <td>-0.031141</td>\n",
       "      <td>0.051094</td>\n",
       "      <td>-0.016333</td>\n",
       "      <td>-0.057324</td>\n",
       "      <td>-0.111340</td>\n",
       "      <td>...</td>\n",
       "      <td>0.035366</td>\n",
       "      <td>-0.055067</td>\n",
       "      <td>0.017863</td>\n",
       "      <td>-0.017418</td>\n",
       "      <td>0.006146</td>\n",
       "      <td>0.033882</td>\n",
       "      <td>0.004187</td>\n",
       "      <td>0.006650</td>\n",
       "      <td>0.004861</td>\n",
       "      <td>99.983780</td>\n",
       "    </tr>\n",
       "    <tr>\n",
       "      <th>1</th>\n",
       "      <td>80746.806911</td>\n",
       "      <td>-4.771948</td>\n",
       "      <td>3.623778</td>\n",
       "      <td>-7.033281</td>\n",
       "      <td>4.542029</td>\n",
       "      <td>-3.151225</td>\n",
       "      <td>-1.397737</td>\n",
       "      <td>-5.568731</td>\n",
       "      <td>0.570636</td>\n",
       "      <td>-2.581123</td>\n",
       "      <td>...</td>\n",
       "      <td>0.372319</td>\n",
       "      <td>0.713588</td>\n",
       "      <td>0.014049</td>\n",
       "      <td>-0.040308</td>\n",
       "      <td>-0.105130</td>\n",
       "      <td>0.041449</td>\n",
       "      <td>0.051648</td>\n",
       "      <td>0.170575</td>\n",
       "      <td>0.075667</td>\n",
       "      <td>122.211321</td>\n",
       "    </tr>\n",
       "  </tbody>\n",
       "</table>\n",
       "<p>2 rows × 30 columns</p>\n",
       "</div>"
      ],
      "text/plain": [
       "               Time        V1        V2        V3        V4        V5  \\\n",
       "Class                                                                   \n",
       "0      94374.121951 -0.022516 -0.043333 -0.037764 -0.070177 -0.031141   \n",
       "1      80746.806911 -4.771948  3.623778 -7.033281  4.542029 -3.151225   \n",
       "\n",
       "             V6        V7        V8        V9  ...       V20       V21  \\\n",
       "Class                                          ...                       \n",
       "0      0.051094 -0.016333 -0.057324 -0.111340  ...  0.035366 -0.055067   \n",
       "1     -1.397737 -5.568731  0.570636 -2.581123  ...  0.372319  0.713588   \n",
       "\n",
       "            V22       V23       V24       V25       V26       V27       V28  \\\n",
       "Class                                                                         \n",
       "0      0.017863 -0.017418  0.006146  0.033882  0.004187  0.006650  0.004861   \n",
       "1      0.014049 -0.040308 -0.105130  0.041449  0.051648  0.170575  0.075667   \n",
       "\n",
       "           Amount  \n",
       "Class              \n",
       "0       99.983780  \n",
       "1      122.211321  \n",
       "\n",
       "[2 rows x 30 columns]"
      ]
     },
     "execution_count": 17,
     "metadata": {},
     "output_type": "execute_result"
    }
   ],
   "source": [
    "data.groupby('Class').mean()"
   ]
  },
  {
   "cell_type": "markdown",
   "id": "3157de91",
   "metadata": {
    "papermill": {
     "duration": 0.012566,
     "end_time": "2022-09-01T20:12:21.557010",
     "exception": false,
     "start_time": "2022-09-01T20:12:21.544444",
     "status": "completed"
    },
    "tags": []
   },
   "source": [
    "### Splitting the Features and Targets "
   ]
  },
  {
   "cell_type": "code",
   "execution_count": 18,
   "id": "ee1f8a89",
   "metadata": {
    "execution": {
     "iopub.execute_input": "2022-09-01T20:12:21.584641Z",
     "iopub.status.busy": "2022-09-01T20:12:21.584212Z",
     "iopub.status.idle": "2022-09-01T20:12:21.590105Z",
     "shell.execute_reply": "2022-09-01T20:12:21.589179Z"
    },
    "papermill": {
     "duration": 0.022473,
     "end_time": "2022-09-01T20:12:21.592358",
     "exception": false,
     "start_time": "2022-09-01T20:12:21.569885",
     "status": "completed"
    },
    "tags": []
   },
   "outputs": [],
   "source": [
    "y = data['Class']\n",
    "x = data.drop(columns = 'Class', axis = 1)"
   ]
  },
  {
   "cell_type": "code",
   "execution_count": 19,
   "id": "0fbef67f",
   "metadata": {
    "execution": {
     "iopub.execute_input": "2022-09-01T20:12:21.621334Z",
     "iopub.status.busy": "2022-09-01T20:12:21.620368Z",
     "iopub.status.idle": "2022-09-01T20:12:21.637774Z",
     "shell.execute_reply": "2022-09-01T20:12:21.636617Z"
    },
    "papermill": {
     "duration": 0.034324,
     "end_time": "2022-09-01T20:12:21.640186",
     "exception": false,
     "start_time": "2022-09-01T20:12:21.605862",
     "status": "completed"
    },
    "tags": []
   },
   "outputs": [
    {
     "name": "stdout",
     "output_type": "stream",
     "text": [
      "            Time        V1        V2        V3        V4        V5        V6  \\\n",
      "93818    64597.0 -0.918553  0.015830  2.120920  1.553505 -0.423409  0.833818   \n",
      "274770  166197.0  2.062917  0.598278 -3.171718  0.619652  1.216218 -1.370544   \n",
      "37795    39112.0 -0.991217 -1.526123  0.378366 -3.452506  2.041132  2.919554   \n",
      "147906   89150.0 -0.607481  1.591984 -0.501440 -0.831155  1.143260 -0.806412   \n",
      "180048  124355.0  2.020676 -1.233668  0.383631 -0.270398 -1.887890 -0.314573   \n",
      "...          ...       ...       ...       ...       ...       ...       ...   \n",
      "279863  169142.0 -1.927883  1.125653 -4.518331  1.749293 -1.566487 -2.010494   \n",
      "280143  169347.0  1.378559  1.289381 -5.004247  1.411850  0.442581 -1.326536   \n",
      "280149  169351.0 -0.676143  1.126366 -2.213700  0.468308 -1.120541 -0.003346   \n",
      "281144  169966.0 -3.113832  0.585864 -5.399730  1.817092 -0.840618 -2.943548   \n",
      "281674  170348.0  1.991976  0.158476 -2.583441  0.408670  1.151147 -0.096695   \n",
      "\n",
      "              V7        V8        V9  ...       V20       V21       V22  \\\n",
      "93818   0.339391  0.406425 -0.122008  ...  0.331489  0.163667  0.463342   \n",
      "274770  0.673803 -0.300302 -0.126312  ... -0.164416 -0.023905  0.065600   \n",
      "37795  -1.165466  0.955882 -2.424556  ...  0.121271 -0.240513 -0.930630   \n",
      "147906  1.430396 -0.582221  0.829910  ...  0.717342 -0.566223 -0.769652   \n",
      "180048 -1.555640  0.105692  0.600893  ... -0.559947 -0.143898  0.160355   \n",
      "...          ...       ...       ...  ...       ...       ...       ...   \n",
      "279863 -0.882850  0.697211 -2.064945  ...  1.252967  0.778584 -0.319189   \n",
      "280143 -1.413170  0.248525 -1.127396  ...  0.226138  0.370612  0.028234   \n",
      "280149 -2.234739  1.210158 -0.652250  ...  0.247968  0.751826  0.834108   \n",
      "281144 -2.208002  1.058733 -1.632333  ...  0.306271  0.583276 -0.269209   \n",
      "281674  0.223050 -0.068384  0.577829  ... -0.017652 -0.164350 -0.295135   \n",
      "\n",
      "             V23       V24       V25       V26       V27       V28  Amount  \n",
      "93818   0.142858  0.233866  0.061847 -0.168984  0.119155  0.123019  144.00  \n",
      "274770 -0.040816  0.574319  0.340788  0.661243 -0.090195 -0.024159    0.76  \n",
      "37795   0.234000  0.921573  0.066079 -0.557546  0.048891  0.119853   70.65  \n",
      "147906  0.068244  0.578502 -0.214609  0.073541  0.338678 -0.111048    9.82  \n",
      "180048  0.318351  0.039336 -0.710591  0.623270  0.021355 -0.026448   33.85  \n",
      "...          ...       ...       ...       ...       ...       ...     ...  \n",
      "279863  0.639419 -0.294885  0.537503  0.788395  0.292680  0.147968  390.00  \n",
      "280143 -0.145640 -0.081049  0.521875  0.739467  0.389152  0.186637    0.76  \n",
      "280149  0.190944  0.032070 -0.739695  0.471111  0.385107  0.194361   77.89  \n",
      "281144 -0.456108 -0.183659 -0.328168  0.606116  0.884876 -0.253700  245.00  \n",
      "281674 -0.072173 -0.450261  0.313267 -0.289617  0.002988 -0.015309   42.53  \n",
      "\n",
      "[984 rows x 30 columns]\n"
     ]
    }
   ],
   "source": [
    "# Let's have a look\n",
    "\n",
    "print(x)"
   ]
  },
  {
   "cell_type": "code",
   "execution_count": 20,
   "id": "2549c666",
   "metadata": {
    "execution": {
     "iopub.execute_input": "2022-09-01T20:12:21.668671Z",
     "iopub.status.busy": "2022-09-01T20:12:21.667673Z",
     "iopub.status.idle": "2022-09-01T20:12:21.674448Z",
     "shell.execute_reply": "2022-09-01T20:12:21.673300Z"
    },
    "papermill": {
     "duration": 0.023287,
     "end_time": "2022-09-01T20:12:21.676542",
     "exception": false,
     "start_time": "2022-09-01T20:12:21.653255",
     "status": "completed"
    },
    "tags": []
   },
   "outputs": [
    {
     "name": "stdout",
     "output_type": "stream",
     "text": [
      "93818     0\n",
      "274770    0\n",
      "37795     0\n",
      "147906    0\n",
      "180048    0\n",
      "         ..\n",
      "279863    1\n",
      "280143    1\n",
      "280149    1\n",
      "281144    1\n",
      "281674    1\n",
      "Name: Class, Length: 984, dtype: int64\n"
     ]
    }
   ],
   "source": [
    "print(y)"
   ]
  },
  {
   "cell_type": "markdown",
   "id": "a87b9e4c",
   "metadata": {
    "papermill": {
     "duration": 0.012783,
     "end_time": "2022-09-01T20:12:21.702454",
     "exception": false,
     "start_time": "2022-09-01T20:12:21.689671",
     "status": "completed"
    },
    "tags": []
   },
   "source": [
    "### Splitting the data into training data & testing data "
   ]
  },
  {
   "cell_type": "code",
   "execution_count": 21,
   "id": "182eb6f5",
   "metadata": {
    "execution": {
     "iopub.execute_input": "2022-09-01T20:12:21.731578Z",
     "iopub.status.busy": "2022-09-01T20:12:21.730856Z",
     "iopub.status.idle": "2022-09-01T20:12:21.741943Z",
     "shell.execute_reply": "2022-09-01T20:12:21.740966Z"
    },
    "papermill": {
     "duration": 0.028502,
     "end_time": "2022-09-01T20:12:21.744574",
     "exception": false,
     "start_time": "2022-09-01T20:12:21.716072",
     "status": "completed"
    },
    "tags": []
   },
   "outputs": [],
   "source": [
    "from sklearn.model_selection import train_test_split\n",
    "\n",
    "x_train, x_test, y_train, y_test = train_test_split(x, y, test_size = 0.25, stratify = y, random_state = 101)"
   ]
  },
  {
   "cell_type": "code",
   "execution_count": 22,
   "id": "64fc7bff",
   "metadata": {
    "execution": {
     "iopub.execute_input": "2022-09-01T20:12:21.773158Z",
     "iopub.status.busy": "2022-09-01T20:12:21.772448Z",
     "iopub.status.idle": "2022-09-01T20:12:21.777828Z",
     "shell.execute_reply": "2022-09-01T20:12:21.776974Z"
    },
    "papermill": {
     "duration": 0.021978,
     "end_time": "2022-09-01T20:12:21.779964",
     "exception": false,
     "start_time": "2022-09-01T20:12:21.757986",
     "status": "completed"
    },
    "tags": []
   },
   "outputs": [
    {
     "name": "stdout",
     "output_type": "stream",
     "text": [
      "(984, 30) (738, 30) (246, 30)\n"
     ]
    }
   ],
   "source": [
    "# By looking at the shape, we could see the number of observations which are training and testing\n",
    "\n",
    "print(x.shape, x_train.shape, x_test.shape)"
   ]
  },
  {
   "cell_type": "code",
   "execution_count": 23,
   "id": "166e97cc",
   "metadata": {
    "execution": {
     "iopub.execute_input": "2022-09-01T20:12:21.808510Z",
     "iopub.status.busy": "2022-09-01T20:12:21.807893Z",
     "iopub.status.idle": "2022-09-01T20:12:21.820333Z",
     "shell.execute_reply": "2022-09-01T20:12:21.819333Z"
    },
    "papermill": {
     "duration": 0.029476,
     "end_time": "2022-09-01T20:12:21.822847",
     "exception": false,
     "start_time": "2022-09-01T20:12:21.793371",
     "status": "completed"
    },
    "tags": []
   },
   "outputs": [],
   "source": [
    "# Feature Scaling\n",
    "\n",
    "from sklearn.preprocessing import StandardScaler\n",
    "\n",
    "scaler = StandardScaler()\n",
    "\n",
    "x_train = scaler.fit_transform(x_train)\n",
    "\n",
    "x_test = scaler.fit_transform(x_test)"
   ]
  },
  {
   "cell_type": "markdown",
   "id": "2ee6c181",
   "metadata": {
    "papermill": {
     "duration": 0.013418,
     "end_time": "2022-09-01T20:12:21.849834",
     "exception": false,
     "start_time": "2022-09-01T20:12:21.836416",
     "status": "completed"
    },
    "tags": []
   },
   "source": [
    "<a id=\"section-four\"></a>\n",
    "## 4. Model Training "
   ]
  },
  {
   "cell_type": "markdown",
   "id": "9b565a13",
   "metadata": {
    "papermill": {
     "duration": 0.013278,
     "end_time": "2022-09-01T20:12:21.876309",
     "exception": false,
     "start_time": "2022-09-01T20:12:21.863031",
     "status": "completed"
    },
    "tags": []
   },
   "source": [
    "### Logistic Regression "
   ]
  },
  {
   "cell_type": "code",
   "execution_count": 24,
   "id": "0c1125ec",
   "metadata": {
    "execution": {
     "iopub.execute_input": "2022-09-01T20:12:21.904483Z",
     "iopub.status.busy": "2022-09-01T20:12:21.904019Z",
     "iopub.status.idle": "2022-09-01T20:12:21.908787Z",
     "shell.execute_reply": "2022-09-01T20:12:21.907889Z"
    },
    "papermill": {
     "duration": 0.02126,
     "end_time": "2022-09-01T20:12:21.910865",
     "exception": false,
     "start_time": "2022-09-01T20:12:21.889605",
     "status": "completed"
    },
    "tags": []
   },
   "outputs": [],
   "source": [
    "model = LogisticRegression()"
   ]
  },
  {
   "cell_type": "code",
   "execution_count": 25,
   "id": "b439970f",
   "metadata": {
    "execution": {
     "iopub.execute_input": "2022-09-01T20:12:21.939848Z",
     "iopub.status.busy": "2022-09-01T20:12:21.939201Z",
     "iopub.status.idle": "2022-09-01T20:12:21.972038Z",
     "shell.execute_reply": "2022-09-01T20:12:21.970803Z"
    },
    "papermill": {
     "duration": 0.051076,
     "end_time": "2022-09-01T20:12:21.975163",
     "exception": false,
     "start_time": "2022-09-01T20:12:21.924087",
     "status": "completed"
    },
    "tags": []
   },
   "outputs": [
    {
     "data": {
      "text/plain": [
       "LogisticRegression()"
      ]
     },
     "execution_count": 25,
     "metadata": {},
     "output_type": "execute_result"
    }
   ],
   "source": [
    "# training the Logistic Regression Model with Training Data\n",
    "\n",
    "model.fit(x_train, y_train)"
   ]
  },
  {
   "cell_type": "markdown",
   "id": "1e70e80a",
   "metadata": {
    "papermill": {
     "duration": 0.021414,
     "end_time": "2022-09-01T20:12:22.018313",
     "exception": false,
     "start_time": "2022-09-01T20:12:21.996899",
     "status": "completed"
    },
    "tags": []
   },
   "source": [
    "<a id=\"section-five\"></a>\n",
    "## 5. Model Evaluation "
   ]
  },
  {
   "cell_type": "code",
   "execution_count": 26,
   "id": "18f639f2",
   "metadata": {
    "execution": {
     "iopub.execute_input": "2022-09-01T20:12:22.062334Z",
     "iopub.status.busy": "2022-09-01T20:12:22.061759Z",
     "iopub.status.idle": "2022-09-01T20:12:22.073245Z",
     "shell.execute_reply": "2022-09-01T20:12:22.071834Z"
    },
    "papermill": {
     "duration": 0.03734,
     "end_time": "2022-09-01T20:12:22.076616",
     "exception": false,
     "start_time": "2022-09-01T20:12:22.039276",
     "status": "completed"
    },
    "tags": []
   },
   "outputs": [],
   "source": [
    "# Accuracy Score\n",
    "# we will find the accuracy on training data\n",
    "\n",
    "from sklearn.metrics import accuracy_score\n",
    "\n",
    "x_train_pred = model.predict(x_train)\n",
    "\n",
    "train_data_accuracy = accuracy_score(x_train_pred, y_train)"
   ]
  },
  {
   "cell_type": "code",
   "execution_count": 27,
   "id": "472ad039",
   "metadata": {
    "execution": {
     "iopub.execute_input": "2022-09-01T20:12:22.121024Z",
     "iopub.status.busy": "2022-09-01T20:12:22.120444Z",
     "iopub.status.idle": "2022-09-01T20:12:22.126988Z",
     "shell.execute_reply": "2022-09-01T20:12:22.125843Z"
    },
    "papermill": {
     "duration": 0.033679,
     "end_time": "2022-09-01T20:12:22.131535",
     "exception": false,
     "start_time": "2022-09-01T20:12:22.097856",
     "status": "completed"
    },
    "tags": []
   },
   "outputs": [
    {
     "name": "stdout",
     "output_type": "stream",
     "text": [
      "Accuracy on training data:  0.9471544715447154\n"
     ]
    }
   ],
   "source": [
    "print('Accuracy on training data: ', train_data_accuracy)"
   ]
  },
  {
   "cell_type": "code",
   "execution_count": 28,
   "id": "c6b87617",
   "metadata": {
    "execution": {
     "iopub.execute_input": "2022-09-01T20:12:22.175844Z",
     "iopub.status.busy": "2022-09-01T20:12:22.175269Z",
     "iopub.status.idle": "2022-09-01T20:12:22.182862Z",
     "shell.execute_reply": "2022-09-01T20:12:22.181563Z"
    },
    "papermill": {
     "duration": 0.033965,
     "end_time": "2022-09-01T20:12:22.186504",
     "exception": false,
     "start_time": "2022-09-01T20:12:22.152539",
     "status": "completed"
    },
    "tags": []
   },
   "outputs": [],
   "source": [
    "# we will find accuracy on test data\n",
    "\n",
    "x_test_pred = model.predict(x_test)\n",
    "\n",
    "test_data_accuracy = accuracy_score(x_test_pred, y_test)"
   ]
  },
  {
   "cell_type": "code",
   "execution_count": 29,
   "id": "59d6aee4",
   "metadata": {
    "execution": {
     "iopub.execute_input": "2022-09-01T20:12:22.216429Z",
     "iopub.status.busy": "2022-09-01T20:12:22.215197Z",
     "iopub.status.idle": "2022-09-01T20:12:22.220943Z",
     "shell.execute_reply": "2022-09-01T20:12:22.219824Z"
    },
    "papermill": {
     "duration": 0.022601,
     "end_time": "2022-09-01T20:12:22.223341",
     "exception": false,
     "start_time": "2022-09-01T20:12:22.200740",
     "status": "completed"
    },
    "tags": []
   },
   "outputs": [
    {
     "name": "stdout",
     "output_type": "stream",
     "text": [
      "Accuracy on testing data:  0.9552845528455285\n"
     ]
    }
   ],
   "source": [
    "print('Accuracy on testing data: ', test_data_accuracy)"
   ]
  },
  {
   "cell_type": "markdown",
   "id": "dd9dcec5",
   "metadata": {
    "papermill": {
     "duration": 0.012936,
     "end_time": "2022-09-01T20:12:22.249638",
     "exception": false,
     "start_time": "2022-09-01T20:12:22.236702",
     "status": "completed"
    },
    "tags": []
   },
   "source": [
    "Accuracy is important to understand if model is deployed well. If the accuracy score of training data is very different from testing data then the model is most likely overfitted or underfitted."
   ]
  }
 ],
 "metadata": {
  "kernelspec": {
   "display_name": "Python 3",
   "language": "python",
   "name": "python3"
  },
  "language_info": {
   "codemirror_mode": {
    "name": "ipython",
    "version": 3
   },
   "file_extension": ".py",
   "mimetype": "text/x-python",
   "name": "python",
   "nbconvert_exporter": "python",
   "pygments_lexer": "ipython3",
   "version": "3.8.8"
  },
  "papermill": {
   "default_parameters": {},
   "duration": 18.348432,
   "end_time": "2022-09-01T20:12:22.984301",
   "environment_variables": {},
   "exception": null,
   "input_path": "__notebook__.ipynb",
   "output_path": "__notebook__.ipynb",
   "parameters": {},
   "start_time": "2022-09-01T20:12:04.635869",
   "version": "2.3.4"
  }
 },
 "nbformat": 4,
 "nbformat_minor": 5
}
